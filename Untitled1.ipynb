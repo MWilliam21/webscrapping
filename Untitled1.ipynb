{
 "cells": [
  {
   "cell_type": "code",
   "execution_count": 8,
   "metadata": {},
   "outputs": [],
   "source": [
    "from splinter import Browser\n",
    "from bs4 import BeautifulSoup as bs\n",
    "import pymongo\n"
   ]
  },
  {
   "cell_type": "code",
   "execution_count": 9,
   "metadata": {},
   "outputs": [],
   "source": [
    "##-connecting to mongo\n",
    "conn='mongodb://localhost:27017'\n",
    "client=pymongo.MongoClient(conn)\n",
    "\n",
    "##-defining database\n",
    "db=client.surf_locations\n",
    "collection=db.location_info"
   ]
  },
  {
   "cell_type": "code",
   "execution_count": 10,
   "metadata": {},
   "outputs": [],
   "source": [
    "## initiale webrowser\n",
    "executable_path={'executable_path':'chromedriver.exe'}\n",
    "browser=Browser('chrome',**executable_path,headless=False)\n",
    "\n",
    "url='https://www.surfline.com/surf-reports-forecasts-cams/costa-rica/3624060'\n",
    "browser.visit(url)\n",
    "\n",
    "## scrapping\n",
    "html=browser.html\n",
    "soup=bs(html,'html.parser')\n",
    "\n",
    "location=soup.find_all('h3',class_='sl-spot-details__name')\n",
    "surf_h=soup.find_all('span',class_='quiver-surf-height')\n",
    "link=soup.find_all('a',class_='sl-cam-list-link')\n"
   ]
  },
  {
   "cell_type": "code",
   "execution_count": 11,
   "metadata": {},
   "outputs": [],
   "source": [
    "locations=[]\n",
    "surf_heights=[]\n",
    "links=[]\n",
    "water_temp=[]\n",
    "air_temp=[]\n",
    "\n",
    "for x in range(len(location)):\n",
    "    loc=location[x].text\n",
    "    h=surf_h[x].text\n",
    "    locations.append(loc)\n",
    "    surf_heights.append(h)\n",
    "for x in link:\n",
    "    url=(\"https://www.surfline.com\" +  x[\"href\"])\n",
    "    links.append(url)\n"
   ]
  },
  {
   "cell_type": "code",
   "execution_count": 6,
   "metadata": {},
   "outputs": [
    {
     "name": "stdout",
     "output_type": "stream",
     "text": [
      "86 - 88 ºF\n"
     ]
    }
   ],
   "source": [
    "# html=browser.html\n",
    "# soup = bs(html, 'html.parser')\n",
    "# browser.visit(links[0])\n",
    "# water = soup.find(\"div\", class_ ='sl-wetsuit-recommender__weather').find_all(\"div\")[0].get_text()\n",
    "# print(water)\n"
   ]
  },
  {
   "cell_type": "code",
   "execution_count": 13,
   "metadata": {},
   "outputs": [
    {
     "name": "stdout",
     "output_type": "stream",
     "text": [
      "86 - 88 ºF\n",
      "77 ºF\n",
      "86 - 88 ºF\n",
      "77 ºF\n",
      "86 - 88 ºF\n",
      "81 ºF\n",
      "86 - 88 ºF\n",
      "81 ºF\n",
      "86 - 88 ºF\n",
      "81 ºF\n",
      "86 - 88 ºF\n",
      "81 ºF\n",
      "86 - 88 ºF\n",
      "81 ºF\n",
      "86 - 88 ºF\n",
      "80 ºF\n",
      "86 - 88 ºF\n",
      "81 ºF\n",
      "86 - 88 ºF\n",
      "81 ºF\n",
      "86 - 88 ºF\n",
      "81 ºF\n",
      "86 - 88 ºF\n",
      "81 ºF\n",
      "86 - 88 ºF\n",
      "81 ºF\n",
      "86 - 88 ºF\n",
      "82 ºF\n",
      "86 - 88 ºF\n",
      "80 ºF\n",
      "86 - 88 ºF\n",
      "79 ºF\n",
      "86 - 88 ºF\n",
      "85 ºF\n",
      "84 - 86 ºF\n",
      "85 ºF\n",
      "86 - 88 ºF\n",
      "81 ºF\n",
      "86 - 88 ºF\n",
      "79 ºF\n",
      "86 - 88 ºF\n",
      "79 ºF\n",
      "86 - 88 ºF\n",
      "78 ºF\n",
      "86 - 88 ºF\n",
      "78 ºF\n",
      "86 - 88 ºF\n",
      "78 ºF\n",
      "86 - 88 ºF\n",
      "77 ºF\n",
      "86 - 88 ºF\n",
      "77 ºF\n",
      "86 - 88 ºF\n",
      "78 ºF\n",
      "75 - 77 ºF\n",
      "83 ºF\n",
      "84 - 86 ºF\n",
      "83 ºF\n",
      "84 - 86 ºF\n",
      "85 ºF\n",
      "84 - 86 ºF\n",
      "86 ºF\n",
      "84 - 86 ºF\n",
      "87 ºF\n",
      "84 - 86 ºF\n",
      "87 ºF\n",
      "84 - 86 ºF\n",
      "87 ºF\n",
      "82 - 82 ºF\n",
      "83 ºF\n",
      "86 - 88 ºF\n",
      "81 ºF\n",
      "86 - 88 ºF\n",
      "78 ºF\n",
      "86 - 88 ºF\n",
      "78 ºF\n",
      "86 - 88 ºF\n",
      "87 ºF\n",
      "86 - 88 ºF\n",
      "86 ºF\n",
      "86 - 88 ºF\n",
      "82 ºF\n",
      "86 - 88 ºF\n",
      "82 ºF\n",
      "86 - 88 ºF\n",
      "83 ºF\n",
      "86 - 88 ºF\n",
      "83 ºF\n",
      "86 - 88 ºF\n",
      "83 ºF\n",
      "86 - 88 ºF\n",
      "83 ºF\n",
      "86 - 88 ºF\n",
      "86 ºF\n",
      "84 - 86 ºF\n",
      "84 ºF\n",
      "84 - 86 ºF\n",
      "86 ºF\n",
      "84 - 86 ºF\n",
      "85 ºF\n",
      "84 - 86 ºF\n",
      "85 ºF\n",
      "84 - 86 ºF\n",
      "85 ºF\n",
      "84 - 86 ºF\n",
      "85 ºF\n",
      "84 - 86 ºF\n",
      "85 ºF\n",
      "84 - 86 ºF\n",
      "85 ºF\n",
      "84 - 86 ºF\n",
      "88 ºF\n"
     ]
    }
   ],
   "source": [
    "for y in links:\n",
    "    html = browser.html\n",
    "    soup = bs(html, 'html.parser')\n",
    "    browser.visit(y)\n",
    "    water = soup.find(\"div\", class_ ='sl-wetsuit-recommender__weather').find_all(\"div\")[0].get_text()\n",
    "    air = soup.find(\"div\", class_ ='sl-wetsuit-recommender__weather').find_all(\"div\")[1].get_text()\n",
    "    print(water)\n",
    "    print(air)\n",
    "    water_temp.append(water)\n",
    "    air_temp.append(air)"
   ]
  },
  {
   "cell_type": "code",
   "execution_count": 17,
   "metadata": {},
   "outputs": [],
   "source": [
    "surfs_list=[]\n",
    "surf_dic={}\n",
    "for x in range(len(locations)):\n",
    "    surf_dic={\n",
    "       'Location':locations[x],\n",
    "       'Surf Height':surf_heights[x],\n",
    "       'Water Temperature':water_temp[x],\n",
    "       'Air Temperature':air_temp[x] \n",
    "    }\n",
    "    surfs_list.append(surf_dic)"
   ]
  },
  {
   "cell_type": "code",
   "execution_count": 19,
   "metadata": {},
   "outputs": [
    {
     "data": {
      "text/plain": [
       "<pymongo.results.InsertManyResult at 0x1612cb185e8>"
      ]
     },
     "execution_count": 19,
     "metadata": {},
     "output_type": "execute_result"
    }
   ],
   "source": [
    "collection.insert_many(surfs_list)"
   ]
  },
  {
   "cell_type": "code",
   "execution_count": null,
   "metadata": {},
   "outputs": [],
   "source": []
  }
 ],
 "metadata": {
  "kernelspec": {
   "display_name": "Python 3",
   "language": "python",
   "name": "python3"
  },
  "language_info": {
   "codemirror_mode": {
    "name": "ipython",
    "version": 3
   },
   "file_extension": ".py",
   "mimetype": "text/x-python",
   "name": "python",
   "nbconvert_exporter": "python",
   "pygments_lexer": "ipython3",
   "version": "3.6.4"
  }
 },
 "nbformat": 4,
 "nbformat_minor": 2
}
